{
 "cells": [
  {
   "cell_type": "markdown",
   "metadata": {},
   "source": [
    "### location file format : map-making-app -> GeoGuessr"
   ]
  },
  {
   "cell_type": "code",
   "execution_count": 6,
   "metadata": {},
   "outputs": [],
   "source": [
    "import json\n",
    "from geopy.geocoders import Nominatim"
   ]
  },
  {
   "cell_type": "code",
   "execution_count": 12,
   "metadata": {},
   "outputs": [],
   "source": [
    "def is_target_format(data):\n",
    "    \"\"\"\n",
    "    入力データがすでに変換後のフォーマットに一致しているかを確認。\n",
    "    \"\"\"\n",
    "    if isinstance(data, list):  # データがリストであることを確認\n",
    "        for item in data:\n",
    "            if not isinstance(item, dict) or \"lat\" not in item or \"lng\" not in item:\n",
    "                return False\n",
    "        return True\n",
    "    return False"
   ]
  },
  {
   "cell_type": "code",
   "execution_count": 13,
   "metadata": {},
   "outputs": [
    {
     "name": "stdout",
     "output_type": "stream",
     "text": [
      "customCoordinatesを抽出しました。\n",
      "結果が ./output/geoguessr_3.json に保存されました。\n"
     ]
    }
   ],
   "source": [
    "# 入力ファイルと出力ファイルのパス\n",
    "input_file = './input/map-making-app_1.json'\n",
    "output_file = './output/geoguessr_3.json'\n",
    "\n",
    "# JSONファイルを読み込んで、customCoordinatesを抽出し、必要なら変換後フォーマットに変更\n",
    "try:\n",
    "    with open(input_file, 'r', encoding='utf-8') as infile:\n",
    "        data = json.load(infile)\n",
    "    \n",
    "    if is_target_format(data):\n",
    "        # 既に変換後のフォーマットの場合\n",
    "        output_data = data\n",
    "        print(\"入力データは既に変換フォーマットです。\")\n",
    "    else:\n",
    "        # customCoordinatesを抽出\n",
    "        custom_coordinates = data.get('customCoordinates', None)\n",
    "        \n",
    "        if custom_coordinates is None:\n",
    "            print(\"customCoordinatesが見つかりませんでした。\")\n",
    "            output_data = []\n",
    "        else:\n",
    "            # customCoordinatesを出力データに設定\n",
    "            output_data = custom_coordinates\n",
    "            print(\"customCoordinatesを抽出しました。\")\n",
    "    \n",
    "    # 結果を新しいJSONファイルに書き込む\n",
    "    with open(output_file, 'w', encoding='utf-8') as outfile:\n",
    "        json.dump(output_data, outfile, ensure_ascii=False, indent=4)\n",
    "    print(f\"結果が {output_file} に保存されました。\")\n",
    "\n",
    "except FileNotFoundError:\n",
    "    print(f\"{input_file} が見つかりませんでした。\")\n",
    "except json.JSONDecodeError:\n",
    "    print(\"JSONファイルの形式が正しくありません。\")\n"
   ]
  },
  {
   "cell_type": "markdown",
   "metadata": {},
   "source": [
    "#### 国名のタグ追加ver"
   ]
  },
  {
   "cell_type": "code",
   "execution_count": 4,
   "metadata": {},
   "outputs": [],
   "source": [
    "# 緯度と経度から国名を返す\n",
    "def get_country_name(latitude, longitude):\n",
    "    geolocator = Nominatim(user_agent=\"abc\")\n",
    "    location = geolocator.reverse((latitude, longitude), language='jp')\n",
    "    \n",
    "    if location and 'country' in location.raw['address']:\n",
    "        return location.raw['address']['country']\n",
    "    else:\n",
    "        return \"unknown\""
   ]
  },
  {
   "cell_type": "code",
   "execution_count": null,
   "metadata": {},
   "outputs": [],
   "source": [
    "# 入力ファイルと出力ファイルのパス\n",
    "input_file = './input/map-making-app_1.json'\n",
    "output_file = './output/geoguessr_3.json'\n",
    "\n",
    "# JSONファイルを読み込んで、customCoordinatesを抽出し、必要なら変換後フォーマットに変更\n",
    "try:\n",
    "    with open(input_file, 'r', encoding='utf-8') as infile:\n",
    "        data = json.load(infile)\n",
    "    \n",
    "    if is_target_format(data):\n",
    "        # 既に変換後のフォーマットの場合\n",
    "        output_data = data\n",
    "        print(\"入力データは既に変換フォーマットです。\")\n",
    "    else:\n",
    "        # customCoordinatesを抽出\n",
    "        custom_coordinates = data.get('customCoordinates', None)\n",
    "        \n",
    "        if custom_coordinates is None:\n",
    "            print(\"customCoordinatesが見つかりませんでした。\")\n",
    "            output_data = []\n",
    "        else:\n",
    "            # customCoordinatesを出力データに設定\n",
    "            output_data = custom_coordinates\n",
    "            print(\"customCoordinatesを抽出しました。\")\n",
    "    \n",
    "    # 結果を新しいJSONファイルに書き込む\n",
    "    with open(output_file, 'w', encoding='utf-8') as outfile:\n",
    "        json.dump(output_data, outfile, ensure_ascii=False, indent=4)\n",
    "    print(f\"結果が {output_file} に保存されました。\")\n",
    "\n",
    "except FileNotFoundError:\n",
    "    print(f\"{input_file} が見つかりませんでした。\")\n",
    "except json.JSONDecodeError:\n",
    "    print(\"JSONファイルの形式が正しくありません。\")\n"
   ]
  },
  {
   "cell_type": "markdown",
   "metadata": {},
   "source": [
    "ue ついか\n",
    "sita もと"
   ]
  },
  {
   "cell_type": "code",
   "execution_count": 7,
   "metadata": {},
   "outputs": [
    {
     "name": "stdout",
     "output_type": "stream",
     "text": [
      "処理が完了しました。結果は ./output/geoguessr_2.json に保存されています。\n"
     ]
    }
   ],
   "source": [
    "# 入力ファイルと出力ファイルのパス\n",
    "input_file = './input/geoguessr_1.json'\n",
    "output_file = './output/geoguessr_2.json'\n",
    "\n",
    "\n",
    "\n",
    "# JSONファイルを処理\n",
    "try:\n",
    "    with open(input_file, 'r', encoding='utf-8') as infile:\n",
    "        data = json.load(infile)  # リスト形式のJSONを読み込む\n",
    "\n",
    "    # 各要素にextra属性を追加\n",
    "    for item in data:\n",
    "        if isinstance(item, dict) and \"lat\" in item and \"lng\" in item:\n",
    "            country_name = get_country_name(float(item[\"lat\"]), float(item[\"lng\"]))\n",
    "\n",
    "            # 追加するextra属性のデータ\n",
    "            item[\"extra\"] = {\n",
    "                \"extra\": {\n",
    "                    \"tags\": [country_name],\n",
    "                    \"panoId\": \"NULL\",\n",
    "                    \"panoDate\": \"NULL\"\n",
    "                }\n",
    "            }\n",
    "\n",
    "    # 結果を新しいJSONファイルに書き込む\n",
    "    with open(output_file, 'w', encoding='utf-8') as outfile:\n",
    "        json.dump(data, outfile, ensure_ascii=False, indent=4)\n",
    "\n",
    "    print(f\"処理が完了しました。結果は {output_file} に保存されています。\")\n",
    "except FileNotFoundError:\n",
    "    print(f\"{input_file} が見つかりませんでした。\")\n",
    "except json.JSONDecodeError:\n",
    "    print(\"JSONファイルの形式が正しくありません。\")\n"
   ]
  },
  {
   "cell_type": "code",
   "execution_count": null,
   "metadata": {},
   "outputs": [],
   "source": [
    "\n",
    "\n",
    "\n",
    "\n",
    "\n",
    "import json\n",
    "\n",
    "# 入力ファイルと出力ファイルのパス\n",
    "input_file = 'input.json'\n",
    "output_file = 'output.json'\n",
    "\n",
    "# JSONファイルを処理\n",
    "try:\n",
    "    with open(input_file, 'r', encoding='utf-8') as infile:\n",
    "        data = json.load(infile)  # リスト形式のJSONを読み込む\n",
    "\n",
    "    # 各要素にextra属性を追加\n",
    "    for item in data:\n",
    "        if isinstance(item, dict) and \"x\" in item and \"y\" in item:\n",
    "            # x と y の値を加算し文字列化\n",
    "            sum_xy = str(item[\"x\"] + item[\"y\"])\n",
    "            \n",
    "            # extra属性を追加\n",
    "            item[\"extra\"] = {\n",
    "                \"tags\": [sum_xy],\n",
    "                \"panoId\": \"MH3vmWH8YoiJCYQzTOQMMA\",\n",
    "                \"panoDate\": \"2012-07\"\n",
    "            }\n",
    "\n",
    "    # 結果を新しいJSONファイルに書き込む\n",
    "    with open(output_file, 'w', encoding='utf-8') as outfile:\n",
    "        json.dump(data, outfile, ensure_ascii=False, indent=4)\n",
    "\n",
    "    print(f\"処理が完了しました。結果は {output_file} に保存されています。\")\n",
    "except FileNotFoundError:\n",
    "    print(f\"{input_file} が見つかりませんでした。\")\n",
    "except json.JSONDecodeError:\n",
    "    print(\"JSONファイルの形式が正しくありません。\")\n"
   ]
  }
 ],
 "metadata": {
  "kernelspec": {
   "display_name": "geo",
   "language": "python",
   "name": "python3"
  },
  "language_info": {
   "codemirror_mode": {
    "name": "ipython",
    "version": 3
   },
   "file_extension": ".py",
   "mimetype": "text/x-python",
   "name": "python",
   "nbconvert_exporter": "python",
   "pygments_lexer": "ipython3",
   "version": "3.12.1"
  }
 },
 "nbformat": 4,
 "nbformat_minor": 2
}
