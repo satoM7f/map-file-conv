{
 "cells": [
  {
   "cell_type": "markdown",
   "metadata": {},
   "source": [
    "### location file format : map-making-app -> GeoGuessr"
   ]
  },
  {
   "cell_type": "code",
   "execution_count": 1,
   "metadata": {},
   "outputs": [],
   "source": [
    "import json\n",
    "from geopy.geocoders import Nominatim"
   ]
  },
  {
   "cell_type": "code",
   "execution_count": 2,
   "metadata": {},
   "outputs": [],
   "source": [
    "tag_lauage = 'jp'\n",
    "# tag_lauage = 'en'"
   ]
  },
  {
   "cell_type": "code",
   "execution_count": 3,
   "metadata": {},
   "outputs": [],
   "source": [
    "def is_target_format(data):\n",
    "    \"\"\"\n",
    "    入力データがすでに変換後のフォーマットに一致しているかを確認。\n",
    "    \"\"\"\n",
    "    if isinstance(data, list):  # データがリストであることを確認\n",
    "        for item in data:\n",
    "            if not isinstance(item, dict) or \"lat\" not in item or \"lng\" not in item:\n",
    "                return False\n",
    "        return True\n",
    "    return False"
   ]
  },
  {
   "cell_type": "code",
   "execution_count": 4,
   "metadata": {},
   "outputs": [],
   "source": [
    "# 緯度と経度から国名を返す\n",
    "def get_country_name(latitude, longitude):\n",
    "    geolocator = Nominatim(user_agent=\"abc\")\n",
    "    location = geolocator.reverse((latitude, longitude), language=tag_lauage)\n",
    "    \n",
    "    if location and 'country' in location.raw['address']:\n",
    "        return location.raw['address']['country']\n",
    "    else:\n",
    "        return \"unknown\""
   ]
  },
  {
   "cell_type": "markdown",
   "metadata": {},
   "source": [
    "#### JSON構造修正して国名のタグ追加"
   ]
  },
  {
   "cell_type": "code",
   "execution_count": 14,
   "metadata": {},
   "outputs": [
    {
     "name": "stdout",
     "output_type": "stream",
     "text": [
      "customCoordinatesを抽出しました。\n",
      "1 / 4\n",
      "2 / 4\n",
      "3 / 4\n",
      "4 / 4\n",
      "結果が ./output/geoguessr_4.json に保存されました。\n"
     ]
    }
   ],
   "source": [
    "# 入力ファイルと出力ファイルのパス\n",
    "input_file = \"./input/map-making-app_1.json\"\n",
    "output_file = \"./output/geoguessr_4.json\"\n",
    "\n",
    "# JSONファイルを読み込んで、customCoordinatesを抽出し、必要なら変換後フォーマットに変更\n",
    "try:\n",
    "    with open(input_file, \"r\", encoding=\"utf-8\") as infile:\n",
    "        data = json.load(infile)\n",
    "\n",
    "    if is_target_format(data):\n",
    "        # 既に変換後のフォーマットの場合\n",
    "        formatted_data = data\n",
    "        print(\"入力データは既に変換フォーマットです。\")\n",
    "    else:\n",
    "        # customCoordinatesを抽出\n",
    "        custom_coordinates = data.get(\"customCoordinates\", None)\n",
    "\n",
    "        if custom_coordinates is None:\n",
    "            print(\"customCoordinatesが見つかりませんでした。\")\n",
    "            formatted_data = []\n",
    "        else:\n",
    "            # customCoordinatesを出力データに設定\n",
    "            formatted_data = custom_coordinates\n",
    "            print(\"customCoordinatesを抽出しました。\")\n",
    "\n",
    "    cnt = 1\n",
    "    # 各要素にextra属性を追加\n",
    "    for item in formatted_data:\n",
    "        if isinstance(item, dict) and \"lat\" in item and \"lng\" in item:\n",
    "            country_name = get_country_name(float(item[\"lat\"]), float(item[\"lng\"]))\n",
    "\n",
    "            if \"extra\" in item:\n",
    "                # extraが既に存在する場合、tagsに\"add\"を追加\n",
    "                if \"tags\" in item[\"extra\"] and isinstance(item[\"extra\"][\"tags\"], list):\n",
    "                    item[\"extra\"][\"tags\"].append(country_name)\n",
    "                else:\n",
    "                    # tagsが存在しない場合、新規作成\n",
    "                    item[\"extra\"][\"tags\"] = [country_name]\n",
    "            else:\n",
    "                # extraが存在しない場合、新規作成\n",
    "                item[\"extra\"] = {\n",
    "                    \"tags\": [country_name],\n",
    "                    \"panoId\": None,\n",
    "                    \"panoDate\": None,\n",
    "                }\n",
    "        # 進捗を表示\n",
    "        print(cnt , \"/\", len(formatted_data))\n",
    "        cnt += 1\n",
    "\n",
    "    # 結果を新しいJSONファイルに書き込む\n",
    "    with open(output_file, \"w\", encoding=\"utf-8\") as outfile:\n",
    "        json.dump(formatted_data, outfile, ensure_ascii=False, indent=4)\n",
    "    print(f\"結果が {output_file} に保存されました。\")\n",
    "\n",
    "except FileNotFoundError:\n",
    "    print(f\"{input_file} が見つかりませんでした。\")\n",
    "except json.JSONDecodeError:\n",
    "    print(\"JSONファイルの形式が正しくありません。\")"
   ]
  },
  {
   "cell_type": "markdown",
   "metadata": {},
   "source": [
    "#### JSON形式だけ変換（タグ情報追加せず）"
   ]
  },
  {
   "cell_type": "code",
   "execution_count": 3,
   "metadata": {},
   "outputs": [
    {
     "name": "stdout",
     "output_type": "stream",
     "text": [
      "customCoordinatesを抽出しました。\n",
      "結果が ./output/geoguessr_3.json に保存されました。\n"
     ]
    }
   ],
   "source": [
    "# 入力ファイルと出力ファイルのパス\n",
    "input_file = './input/map-making-app_1.json'\n",
    "output_file = './output/geoguessr_3.json'\n",
    "\n",
    "# JSONファイルを読み込んで、customCoordinatesを抽出し、必要なら変換後フォーマットに変更\n",
    "try:\n",
    "    with open(input_file, 'r', encoding='utf-8') as infile:\n",
    "        data = json.load(infile)\n",
    "    \n",
    "    if is_target_format(data):\n",
    "        # 既に変換後のフォーマットの場合\n",
    "        output_data = data\n",
    "        print(\"入力データは既に変換フォーマットです。\")\n",
    "    else:\n",
    "        # customCoordinatesを抽出\n",
    "        custom_coordinates = data.get('customCoordinates', None)\n",
    "        \n",
    "        if custom_coordinates is None:\n",
    "            print(\"customCoordinatesが見つかりませんでした。\")\n",
    "            output_data = []\n",
    "        else:\n",
    "            # customCoordinatesを出力データに設定\n",
    "            output_data = custom_coordinates\n",
    "            print(\"customCoordinatesを抽出しました。\")\n",
    "    \n",
    "    # 結果を新しいJSONファイルに書き込む\n",
    "    with open(output_file, 'w', encoding='utf-8') as outfile:\n",
    "        json.dump(output_data, outfile, ensure_ascii=False, indent=4)\n",
    "    print(f\"結果が {output_file} に保存されました。\")\n",
    "\n",
    "except FileNotFoundError:\n",
    "    print(f\"{input_file} が見つかりませんでした。\")\n",
    "except json.JSONDecodeError:\n",
    "    print(\"JSONファイルの形式が正しくありません。\")\n"
   ]
  }
 ],
 "metadata": {
  "kernelspec": {
   "display_name": "geo",
   "language": "python",
   "name": "python3"
  },
  "language_info": {
   "codemirror_mode": {
    "name": "ipython",
    "version": 3
   },
   "file_extension": ".py",
   "mimetype": "text/x-python",
   "name": "python",
   "nbconvert_exporter": "python",
   "pygments_lexer": "ipython3",
   "version": "3.12.1"
  }
 },
 "nbformat": 4,
 "nbformat_minor": 2
}
