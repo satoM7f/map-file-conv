{
 "cells": [
  {
   "cell_type": "markdown",
   "metadata": {},
   "source": [
    "### location file format : map-making-app -> GeoGuessr"
   ]
  },
  {
   "cell_type": "code",
   "execution_count": 4,
   "metadata": {},
   "outputs": [],
   "source": [
    "import json"
   ]
  },
  {
   "cell_type": "code",
   "execution_count": 7,
   "metadata": {},
   "outputs": [],
   "source": [
    "# 入力ファイルと出力ファイルのパス\n",
    "input_file = './input/map-making-app_1.json'\n",
    "output_file = './output/geoguessr_1.json'"
   ]
  },
  {
   "cell_type": "code",
   "execution_count": 8,
   "metadata": {},
   "outputs": [
    {
     "name": "stdout",
     "output_type": "stream",
     "text": [
      "customCoordinatesが ./output/geoguessr_1.json に出力されました。\n"
     ]
    }
   ],
   "source": [
    "# JSONファイルを読み込んで、customCoordinatesを抽出し、出力する\n",
    "try:\n",
    "    with open(input_file, 'r', encoding='utf-8') as infile:\n",
    "        data = json.load(infile)\n",
    "    \n",
    "    # customCoordinatesを抽出\n",
    "    custom_coordinates = data.get('customCoordinates', None)\n",
    "    \n",
    "    if custom_coordinates is None:\n",
    "        print(\"customCoordinatesが見つかりませんでした。\")\n",
    "    else:\n",
    "        # 結果を新しいJSONファイルに書き込む\n",
    "        with open(output_file, 'w', encoding='utf-8') as outfile:\n",
    "            json.dump(custom_coordinates, outfile, ensure_ascii=False, indent=4)\n",
    "        print(f\"customCoordinatesが {output_file} に出力されました。\")\n",
    "except FileNotFoundError:\n",
    "    print(f\"{input_file} が見つかりませんでした。\")\n",
    "except json.JSONDecodeError:\n",
    "    print(\"JSONファイルの形式が正しくありません。\")\n"
   ]
  }
 ],
 "metadata": {
  "kernelspec": {
   "display_name": "geo",
   "language": "python",
   "name": "python3"
  },
  "language_info": {
   "codemirror_mode": {
    "name": "ipython",
    "version": 3
   },
   "file_extension": ".py",
   "mimetype": "text/x-python",
   "name": "python",
   "nbconvert_exporter": "python",
   "pygments_lexer": "ipython3",
   "version": "3.12.1"
  }
 },
 "nbformat": 4,
 "nbformat_minor": 2
}
