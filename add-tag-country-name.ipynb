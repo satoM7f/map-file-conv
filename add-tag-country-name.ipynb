{
 "cells": [
  {
   "cell_type": "code",
   "execution_count": null,
   "metadata": {},
   "outputs": [],
   "source": [
    "from geopy.geocoders import Nominatim"
   ]
  },
  {
   "cell_type": "code",
   "execution_count": null,
   "metadata": {},
   "outputs": [],
   "source": [
    "tag_lauage = 'jp'\n",
    "# tag_lauage = 'en'\n"
   ]
  },
  {
   "cell_type": "code",
   "execution_count": null,
   "metadata": {},
   "outputs": [],
   "source": [
    "\n",
    "\n",
    "def get_country_name(latitude, longitude):\n",
    "    geolocator = Nominatim(user_agent=\"abc\")\n",
    "    location = geolocator.reverse((latitude, longitude), language='jp')\n",
    "    \n",
    "    if location and 'country' in location.raw['address']:\n",
    "        return location.raw['address']['country']\n",
    "    else:\n",
    "        return \"国名が見つかりませんでした\"\n",
    "\n",
    "# 使用例\n",
    "latitude = 35.658581\n",
    "longitude = 139.745433\n",
    "country_name = get_country_name(latitude, longitude)\n",
    "print(f\"国名: {country_name}\")"
   ]
  },
  {
   "cell_type": "code",
   "execution_count": null,
   "metadata": {},
   "outputs": [],
   "source": [
    "def add_tag_country_name():\n",
    "    # 追加するextra属性のデータ\n",
    "    extra_data = {\n",
    "        \"extra\": {\n",
    "            \"tags\": [\"abcd\"],\n",
    "            \"panoId\": \"MH3vmWH8YoiJCYQzTOQMMA\",\n",
    "            \"panoDate\": \"2012-07\"\n",
    "        }\n",
    "    }\n",
    "\n",
    "    # JSONファイルを処理\n",
    "    try:\n",
    "        with open(input_file, 'r', encoding='utf-8') as infile:\n",
    "            data = json.load(infile)  # リスト形式のJSONを読み込む\n",
    "\n",
    "        # 各要素にextra属性を追加\n",
    "        for item in data:\n",
    "            if isinstance(item, dict) and \"x\" in item and \"y\" in item:\n",
    "                item.update(extra_data)\n",
    "\n",
    "        # 結果を新しいJSONファイルに書き込む\n",
    "        with open(output_file, 'w', encoding='utf-8') as outfile:\n",
    "            json.dump(data, outfile, ensure_ascii=False, indent=4)\n",
    "\n",
    "        print(f\"処理が完了しました。結果は {output_file} に保存されています。\")\n",
    "    except FileNotFoundError:\n",
    "        print(f\"{input_file} が見つかりませんでした。\")\n",
    "    except json.JSONDecodeError:\n",
    "        print(\"JSONファイルの形式が正しくありません。\")\n"
   ]
  }
 ],
 "metadata": {
  "kernelspec": {
   "display_name": "geo",
   "language": "python",
   "name": "python3"
  },
  "language_info": {
   "name": "python",
   "version": "3.12.1"
  }
 },
 "nbformat": 4,
 "nbformat_minor": 2
}
