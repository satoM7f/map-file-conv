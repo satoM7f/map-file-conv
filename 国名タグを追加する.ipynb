{
 "cells": [
  {
   "cell_type": "code",
   "execution_count": 8,
   "id": "f4256db1",
   "metadata": {},
   "outputs": [],
   "source": [
    "import json\n",
    "import pycountry\n",
    "import reverse_geocode as rg\n",
    "import time\n",
    "import random\n",
    "import string\n",
    "\n",
    "country_dict = {\"Aruba\": \"アルバ\", \"Afghanistan\": \"アフガニスタン\", \"Angola\": \"アンゴラ\", \"Anguilla\": \"アンギラ\", \"Åland Islands\": \"オーランド諸島\", \"Albania\": \"アルバニア\", \"Andorra\": \"アンドラ\", \"United Arab Emirates\": \"アラブ首長国連邦\", \"Argentina\": \"アルゼンチン\", \"Armenia\": \"アルメニア\", \"American Samoa\": \"アメリカ領サモア\", \"Antarctica\": \"南極大陸\", \"French Southern Territories\": \"フランス領南方地域\", \"Antigua and Barbuda\": \"アンティグア・バーブーダ\", \"Australia\": \"オーストラリア\", \"Austria\": \"オーストリア\", \"Azerbaijan\": \"アゼルバイジャン\", \"Burundi\": \"ブルンジ\", \"Belgium\": \"ベルギー\", \"Benin\": \"ベナン\", \"Bonaire, Sint Eustatius and Saba\": \"ボネール、シント・ユースタティウスおよびサバ\", \"Burkina Faso\": \"ブルキナファソ\", \"Bangladesh\": \"バングラデシュ\", \"Bulgaria\": \"ブルガリア\", \"Bahrain\": \"バーレーン\", \"Bahamas\": \"バハマ\", \"Bosnia and Herzegovina\": \"ボスニア・ヘルツェゴビナ\", \"Saint Barthélemy\": \"サン・バルテルミー\", \"Belarus\": \"ベラルーシ\", \"Belize\": \"ベリーズ\", \"Bermuda\": \"バミューダ\", \"Bolivia, Plurinational State of\": \"ボリビア、多民族国\", \"Brazil\": \"ブラジル\", \"Barbados\": \"バルバドス\", \"Brunei Darussalam\": \"ブルネイ・ダルサラーム\", \"Bhutan\": \"ブータン\", \"Bouvet Island\": \"ブーベ島\", \"Botswana\": \"ボツワナ\", \"Central African Republic\": \"中央アフリカ共和国\", \"Canada\": \"カナダ\", \"Cocos (Keeling) Islands\": \"ココス（キーリング）諸島\", \"Switzerland\": \"スイス\", \"Chile\": \"チリ\", \"China\": \"中国\", \"Côte d'Ivoire\": \"コートジボワール\", \"Cameroon\": \"カメルーン\", \"Congo, The Democratic Republic of the\": \"コンゴ民主共和国\", \"Congo\": \"コンゴ\", \"Cook Islands\": \"クック諸島\", \"Colombia\": \"コロンビア\", \"Comoros\": \"コモロ\", \"Cabo Verde\": \"カーボベルデ\", \"Costa Rica\": \"コスタリカ\", \"Cuba\": \"キューバ\", \"Curaçao\": \"キュラソー\", \"Christmas Island\": \"クリスマス島\", \"Cayman Islands\": \"ケイマン諸島\", \"Cyprus\": \"キプロス\", \"Czechia\": \"チェコ\", \"Germany\": \"ドイツ\", \"Djibouti\": \"ジブチ\", \"Dominica\": \"ドミニカ国\", \"Denmark\": \"デンマーク\", \"Dominican Republic\": \"ドミニカ共和国\", \"Algeria\": \"アルジェリア\", \"Ecuador\": \"エクアドル\", \"Egypt\": \"エジプト\", \"Eritrea\": \"エリトリア\", \"Western Sahara\": \"西サハラ\", \"Spain\": \"スペイン\", \"Estonia\": \"エストニア\", \"Ethiopia\": \"エチオピア\", \"Finland\": \"フィンランド\", \"Fiji\": \"フィジー\", \"Falkland Islands (Malvinas)\": \"フォークランド諸島（マルビナス）\", \"France\": \"フランス\", \"Faroe Islands\": \"フェロー諸島\", \"Micronesia, Federated States of\": \"ミクロネシア連邦\", \"Gabon\": \"ガボン\", \"United Kingdom\": \"イギリス\", \"Georgia\": \"ジョージア\", \"Guernsey\": \"ガーンジー\", \"Ghana\": \"ガーナ\", \"Gibraltar\": \"ジブラルタル\", \"Guinea\": \"ギニア\", \"Guadeloupe\": \"グアドループ\", \"Gambia\": \"ガンビア\", \"Guinea-Bissau\": \"ギニアビサウ\", \"Equatorial Guinea\": \"赤道ギニア\", \"Greece\": \"ギリシャ\", \"Grenada\": \"グレナダ\", \"Greenland\": \"グリーンランド\", \"Guatemala\": \"グアテマラ\", \"French Guiana\": \"仏領ギアナ\", \"Guam\": \"グアム\", \"Guyana\": \"ガイアナ\", \"Hong Kong\": \"香港\", \"Heard Island and McDonald Islands\": \"ハード島とマクドナルド諸島\", \"Honduras\": \"ホンジュラス\", \"Croatia\": \"クロアチア\", \"Haiti\": \"ハイチ\", \"Hungary\": \"ハンガリー\", \"Indonesia\": \"インドネシア\", \"Isle of Man\": \"マン島\", \"India\": \"インド\", \"British Indian Ocean Territory\": \"英領インド洋地域\", \"Ireland\": \"アイルランド\", \"Iran, Islamic Republic of\": \"イラン・イスラム共和国\", \"Iraq\": \"イラク\", \"Iceland\": \"アイスランド\", \"Israel\": \"イスラエル\", \"Italy\": \"イタリア\", \"Jamaica\": \"ジャマイカ\", \"Jersey\": \"ジャージー\", \"Jordan\": \"ヨルダン\", \"Japan\": \"日本\", \"Kazakhstan\": \"カザフスタン\", \"Kenya\": \"ケニア\", \"Kyrgyzstan\": \"キルギス\", \"Cambodia\": \"カンボジア\", \"Kiribati\": \"キリバス\", \"Saint Kitts and Nevis\": \"セントクリストファー・ネイビス\", \"Korea, Republic of\": \"大韓民国\", \"Kuwait\": \"クウェート\", \"Lao People's Democratic Republic\": \"ラオス人民民主共和国\", \"Lebanon\": \"レバノン\", \"Liberia\": \"リベリア\", \"Libya\": \"リビア\", \"Saint Lucia\": \"セントルシア\", \"Liechtenstein\": \"リヒテンシュタイン\", \"Sri Lanka\": \"スリランカ\", \"Lesotho\": \"レソト\", \"Lithuania\": \"リトアニア\", \"Luxembourg\": \"ルクセンブルク\", \"Latvia\": \"ラトビア\", \"Macao\": \"マカオ\", \"Saint Martin (French part)\": \"サンマルタン（フランス領）\", \"Morocco\": \"モロッコ\", \"Monaco\": \"モナコ\", \"Moldova, Republic of\": \"モルドバ共和国\", \"Madagascar\": \"マダガスカル\", \"Maldives\": \"モルディブ\", \"Mexico\": \"メキシコ\", \"Marshall Islands\": \"マーシャル諸島\", \"North Macedonia\": \"北マケドニア\", \"Mali\": \"マリ\", \"Malta\": \"マルタ\", \"Myanmar\": \"ミャンマー\", \"Montenegro\": \"モンテネグロ\", \"Mongolia\": \"モンゴル\", \"Northern Mariana Islands\": \"北マリアナ諸島\", \"Mozambique\": \"モザンビーク\", \"Mauritania\": \"モーリタニア\", \"Montserrat\": \"モントセラト\", \"Martinique\": \"マルティニーク\", \"Mauritius\": \"モーリシャス\", \"Malawi\": \"マラウイ\", \"Malaysia\": \"マレーシア\", \"Mayotte\": \"マヨット\", \"Namibia\": \"ナミビア\", \"New Caledonia\": \"ニューカレドニア\", \"Niger\": \"ニジェール\", \"Norfolk Island\": \"ノーフォーク島\", \"Nigeria\": \"ナイジェリア\", \"Nicaragua\": \"ニカラグア\", \"Niue\": \"ニウエ\", \"Netherlands\": \"オランダ\", \"Norway\": \"ノルウェー\", \"Nepal\": \"ネパール\", \"Nauru\": \"ナウル\", \"New Zealand\": \"ニュージーランド\", \"Oman\": \"オマーン\", \"Pakistan\": \"パキスタン\", \"Panama\": \"パナマ\", \"Pitcairn\": \"ピトケアン\", \"Peru\": \"ペルー\", \"Philippines\": \"フィリピン\", \"Palau\": \"パラオ\", \"Papua New Guinea\": \"パプアニューギニア\", \"Poland\": \"ポーランド\", \"Puerto Rico\": \"プエルトリコ\", \"Korea, Democratic People's Republic of\": \"朝鮮民主主義人民共和国\", \"Portugal\": \"ポルトガル\", \"Paraguay\": \"パラグアイ\", \"Palestine, State of\": \"パレスチナ\", \"French Polynesia\": \"仏領ポリネシア\", \"Qatar\": \"カタール\", \"Réunion\": \"レユニオン\", \"Romania\": \"ルーマニア\", \"Russian Federation\": \"ロシア連邦\", \"Rwanda\": \"ルワンダ\", \"Saudi Arabia\": \"サウジアラビア\", \"Sudan\": \"スーダン\", \"Senegal\": \"セネガル\", \"Singapore\": \"シンガポール\", \"South Georgia and the South Sandwich Islands\": \"サウスジョージア・サウスサンドウィッチ諸島\", \"Saint Helena, Ascension and Tristan da Cunha\": \"セントヘレナ・アセンションおよびトリスタンダクーニャ\", \"Svalbard and Jan Mayen\": \"スヴァールバル諸島およびヤンマイエン\", \"Solomon Islands\": \"ソロモン諸島\", \"Sierra Leone\": \"シエラレオネ\", \"El Salvador\": \"エルサルバドル\", \"San Marino\": \"サンマリノ\", \"Somalia\": \"ソマリア\", \"Saint Pierre and Miquelon\": \"サンピエール島・ミクロン島\", \"Serbia\": \"セルビア\", \"South Sudan\": \"南スーダン\", \"Sao Tome and Principe\": \"サントメ・プリンシペ\", \"Suriname\": \"スリナム\", \"Slovakia\": \"スロバキア\", \"Slovenia\": \"スロベニア\", \"Sweden\": \"スウェーデン\", \"Eswatini\": \"エスワティニ\", \"Sint Maarten (Dutch part)\": \"シント・マールテン（オランダ領）\", \"Seychelles\": \"セーシェル\", \"Syrian Arab Republic\": \"シリア・アラブ共和国\", \"Turks and Caicos Islands\": \"タークス・カイコス諸島\", \"Chad\": \"チャド\", \"Togo\": \"トーゴ\", \"Thailand\": \"タイ\", \"Tajikistan\": \"タジキスタン\", \"Tokelau\": \"トケラウ\", \"Turkmenistan\": \"トルクメニスタン\", \"Timor-Leste\": \"東ティモール\", \"Tonga\": \"トンガ\", \"Trinidad and Tobago\": \"トリニダード・トバゴ\", \"Tunisia\": \"チュニジア\", \"Türkiye\": \"トルコ\", \"Tuvalu\": \"ツバル\", \"Taiwan, Province of China\": \"台湾\", \"Tanzania, United Republic of\": \"タンザニア\", \"Uganda\": \"ウガンダ\", \"Ukraine\": \"ウクライナ\", \"United States Minor Outlying Islands\": \"アメリカ合衆国外諸島\", \"Uruguay\": \"ウルグアイ\", \"United States\": \"アメリカ合衆国\", \"Uzbekistan\": \"ウズベキスタン\", \"Holy See (Vatican City State)\": \"聖座（バチカン市国）\", \"Saint Vincent and the Grenadines\": \"セントビンセントおよびグレナディーン諸島\", \"Venezuela, Bolivarian Republic of\": \"ベネズエラ・ボリバル共和国\", \"Virgin Islands, British\": \"英領ヴァージン諸島\", \"Virgin Islands, U.S.\": \"米領ヴァージン諸島\", \"Viet Nam\": \"ベトナム\", \"Vanuatu\": \"バヌアツ\", \"Wallis and Futuna\": \"ウォリス・フツナ\", \"Samoa\": \"サモア\", \"Yemen\": \"イエメン\", \"South Africa\": \"南アフリカ\", \"Zambia\": \"ザンビア\", \"Zimbabwe\": \"ジンバブエ\"}"
   ]
  },
  {
   "cell_type": "code",
   "execution_count": 32,
   "id": "e8322fa3",
   "metadata": {},
   "outputs": [],
   "source": [
    "def generate_random_user_agent():\n",
    "    return ''.join(random.choices(string.ascii_letters + string.digits, k=10))\n",
    "\n",
    "def load_json_from_file(file_path):\n",
    "    with open(file_path, 'r', encoding='utf-8') as file:\n",
    "        return json.load(file)\n",
    "\n",
    "def get_country_names():\n",
    "    countries = [country.name for country in pycountry.countries]\n",
    "    return countries\n",
    "\n",
    "def get_country_name(lat, lng):\n",
    "    coordinates = [(lat, lng)]\n",
    "    result = rg.search(coordinates)\n",
    "    #print(result)\n",
    "    country_code = result[0]['country_code']\n",
    "    country = pycountry.countries.get(alpha_2=country_code)\n",
    "    return country.name if country else \"国名が見つかりませんでした\"\n",
    "\n",
    "def get_country_name2(latitude, longitude):\n",
    "    user_agent = generate_random_user_agent()\n",
    "    print(user_agent)\n",
    "    geolocator = Nominatim(user_agent=user_agent)\n",
    "    time.sleep(random.uniform(1, 3))\n",
    "    \n",
    "    geolocator = Nominatim(user_agent=\"geoapiExercises\")\n",
    "    location = geolocator.reverse((latitude, longitude), language='en')\n",
    "    \n",
    "    if location and 'country' in location.raw['address']:\n",
    "        return location.raw['address']['country']\n",
    "    else:\n",
    "        return \"None\"\n",
    "\n",
    "def translate_to_japanese(english_name):\n",
    "    return country_dict.get(english_name, \"国名が見つかりませんでした\")\n",
    "\n",
    "def translate_to_english(japanese_name):\n",
    "    inverted_dict = {v: k for k, v in country_dict.items()}\n",
    "    return inverted_dict.get(japanese_name, \"国名が見つかりませんでした\")\n",
    "\n",
    "def add_process(data, flg=False):\n",
    "    flg = True\n",
    "    custom_coords = data.get(\"customCoordinates\", [])\n",
    "    \n",
    "    if not custom_coords:\n",
    "        print(\"No customCoordinates found.\")\n",
    "        return\n",
    "    \n",
    "    for index, coord in enumerate(custom_coords):\n",
    "        lat = coord.get(\"lat\", \"N/A\")\n",
    "        lng = coord.get(\"lng\", \"N/A\")\n",
    "        country_name = get_country_name(lat, lng)\n",
    "        \n",
    "        # extra の確認と初期化\n",
    "        extra = coord.get(\"extra\", {})\n",
    "        if not isinstance(extra, dict):\n",
    "            extra = {\"tags\": []}\n",
    "            coord[\"extra\"] = extra  # extra を辞書として初期化\n",
    "        \n",
    "        # tags の確認と初期化\n",
    "        tags = extra.get(\"tags\", [])\n",
    "        if not isinstance(tags, list):\n",
    "            tags = []\n",
    "            extra[\"tags\"] = tags  # tags をリストとして初期化\n",
    "\n",
    "        # タグの追加\n",
    "        if country_name not in tags:\n",
    "            tags.append(country_name)\n",
    "        if \"all\" not in tags:\n",
    "            tags.append(\"all\")\n",
    "\n",
    "        # extra を更新\n",
    "        coord[\"extra\"] = extra\n",
    "\n",
    "        # デバッグ出力\n",
    "        if flg:\n",
    "            print(f\"{index + 1} {country_name}: {','.join(tags)} {lat}, {lng}\")\n",
    "        print(f\"Coordinate {index + 1}: Latitude = {lat}, Longitude = {lng}\")\n"
   ]
  },
  {
   "cell_type": "code",
   "execution_count": null,
   "id": "e7924059",
   "metadata": {},
   "outputs": [],
   "source": []
  },
  {
   "cell_type": "code",
   "execution_count": 33,
   "id": "2f0191a3",
   "metadata": {
    "scrolled": true
   },
   "outputs": [
    {
     "name": "stdout",
     "output_type": "stream",
     "text": [
      "1 Algeria: Algeria,all 26.4221132, 5.3615262\n",
      "Coordinate 1: Latitude = 26.4221132, Longitude = 5.3615262\n",
      "2 United States: United States,all 37.57379903945552, -85.74034917306133\n",
      "Coordinate 2: Latitude = 37.57379903945552, Longitude = -85.74034917306133\n",
      "3 United States: United States,all 38.21645159287008, -108.56618829772516\n",
      "Coordinate 3: Latitude = 38.21645159287008, Longitude = -108.56618829772516\n",
      "4 Czechia: Czechia,all 49.35197652775798, 17.855122753830535\n",
      "Coordinate 4: Latitude = 49.35197652775798, Longitude = 17.855122753830535\n"
     ]
    }
   ],
   "source": [
    "file_path = './sato.json'\n",
    "flg = True\n",
    "\n",
    "country_names = get_country_names()\n",
    "\n",
    "data = load_json_from_file(file_path)\n",
    "add_process(data)\n",
    "with open('output.json', 'w', encoding='utf-8') as f:\n",
    "    json.dump(data, f, ensure_ascii=False, indent=4)"
   ]
  },
  {
   "cell_type": "code",
   "execution_count": null,
   "id": "8e2a741d",
   "metadata": {},
   "outputs": [],
   "source": []
  },
  {
   "cell_type": "code",
   "execution_count": null,
   "id": "71295d6b",
   "metadata": {},
   "outputs": [],
   "source": []
  },
  {
   "cell_type": "code",
   "execution_count": null,
   "id": "3287c4d9",
   "metadata": {},
   "outputs": [],
   "source": []
  },
  {
   "cell_type": "code",
   "execution_count": null,
   "id": "3b6735f3",
   "metadata": {},
   "outputs": [],
   "source": [
    "import json\n",
    "\n",
    "# JSONデータをファイルから読み込むための関数\n",
    "def load_json_from_file(file_path):\n",
    "    with open(file_path, 'r', encoding='utf-8') as file:\n",
    "        return json.load(file)\n",
    "\n",
    "# customCoordinatesの件数を表示する関数\n",
    "def count_custom_coordinates(data):\n",
    "    # customCoordinatesのリストの長さを取得\n",
    "    count = len(data.get(\"customCoordinates\", []))\n",
    "    print(f\"Number of customCoordinates: {count}\")\n",
    "    return count\n",
    "\n",
    "# ファイルパスを指定\n",
    "file_path = 'learnable0814.json'\n",
    "\n",
    "# JSONデータをファイルから読み込んで件数を表示する\n",
    "data = load_json_from_file(file_path)\n",
    "count_custom_coordinates(data)\n"
   ]
  },
  {
   "cell_type": "code",
   "execution_count": null,
   "id": "47169c5b",
   "metadata": {},
   "outputs": [],
   "source": []
  },
  {
   "cell_type": "code",
   "execution_count": null,
   "id": "b3a6612c",
   "metadata": {},
   "outputs": [],
   "source": []
  },
  {
   "cell_type": "code",
   "execution_count": null,
   "id": "4f7cd3cf",
   "metadata": {},
   "outputs": [],
   "source": []
  },
  {
   "cell_type": "code",
   "execution_count": null,
   "id": "af193927",
   "metadata": {},
   "outputs": [],
   "source": []
  },
  {
   "cell_type": "code",
   "execution_count": null,
   "id": "df727bea",
   "metadata": {},
   "outputs": [],
   "source": [
    "    # カスタム座標を表示\n",
    "    for index, coord in enumerate(data.get(\"customCoordinates\", [])):\n",
    "        print(f\"\\nCoordinate {index + 1}:\")\n",
    "        print(f\"  Latitude: {coord['lat']}\")\n",
    "        print(f\"  Longitude: {coord['lng']}\")\n",
    "        print(f\"  Heading: {coord['heading']}\")\n",
    "        print(f\"  Pitch: {coord['pitch']}\")\n",
    "        print(f\"  Zoom: {coord['zoom']}\")\n",
    "        print(f\"  Pano ID: {coord.get('panoId', 'N/A')}\")\n",
    "        print(f\"  Country Code: {coord.get('countryCode', 'N/A')}\")\n",
    "        print(f\"  State Code: {coord.get('stateCode', 'N/A')}\")\n",
    "        if 'extra' in coord:\n",
    "            print(f\"  Tags: {coord['extra'].get('tags', [])}\")\n",
    "            print(f\"  Pano Date: {coord['extra'].get('panoDate', 'N/A')}\")"
   ]
  }
 ],
 "metadata": {
  "kernelspec": {
   "display_name": "Python 3 (ipykernel)",
   "language": "python",
   "name": "python3"
  },
  "language_info": {
   "codemirror_mode": {
    "name": "ipython",
    "version": 3
   },
   "file_extension": ".py",
   "mimetype": "text/x-python",
   "name": "python",
   "nbconvert_exporter": "python",
   "pygments_lexer": "ipython3",
   "version": "3.12.6"
  }
 },
 "nbformat": 4,
 "nbformat_minor": 5
}
